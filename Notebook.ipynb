{
 "cells": [
  {
   "cell_type": "code",
   "execution_count": 70,
   "metadata": {},
   "outputs": [],
   "source": [
    "import numpy as np\n",
    "import cv2\n",
    "from matplotlib import pyplot as plt\n",
    "from torch.utils.data import Dataset, DataLoader\n",
    "import os\n",
    "import pandas as pd\n",
    "import math\n",
    "\n",
    "\n",
    "data_path = \"./dataset/train/\"\n",
    "sample = \"signer0_sample1349_color.mp4\""
   ]
  },
  {
   "cell_type": "code",
   "execution_count": 79,
   "metadata": {},
   "outputs": [
    {
     "name": "stdout",
     "output_type": "stream",
     "text": [
      "0.0\n",
      "30.0\n"
     ]
    }
   ],
   "source": [
    "cap = cv2.VideoCapture(data_path + sample)\n",
    "frame_rate = cap.get(5)\n",
    "\n",
    "while(cap.isOpened()):\n",
    "    frameId = cap.get(1) \n",
    "    frameRate = cap.get(5) \n",
    "    ret, frame = cap.read()\n",
    "    \n",
    "    if (ret != True):\n",
    "        break\n",
    "        \n",
    "#     print(frameId)\n",
    "    if (frameId % math.floor(frameRate) == 0):\n",
    "        # storing the frames in a new folder named train_1\n",
    "#         filename ='train_1/' + videoFile.split('/')[1].split(' ')[0] +\"_frame%d.jpg\" % count;count+=1\n",
    "#         cv2.imwrite(filename, frame)\n",
    "        print(frameId)\n",
    "    \n",
    "# print(cap.get(5))\n",
    "\n",
    "# while(cap.isOpened()):\n",
    "    \n",
    "\n",
    "#     gray = cv2.cvtColor(frame, cv2.COLOR_BGR2GRAY)\n",
    "#     plt.imshow(frame)\n",
    "# #     print(ret,frame)\n",
    "#     break\n",
    "# #     cv2.imshow('frame',gray)\n",
    "# #     if cv2.waitKey(1) & 0xFF == ord('q'):\n",
    "# #         break\n",
    "\n",
    "cap.release()\n",
    "# cv2.destroyAllWindows()"
   ]
  },
  {
   "cell_type": "code",
   "execution_count": 77,
   "metadata": {},
   "outputs": [
    {
     "data": {
      "text/plain": [
       "(512, 512, 3)"
      ]
     },
     "execution_count": 77,
     "metadata": {},
     "output_type": "execute_result"
    }
   ],
   "source": [
    "frame.shape"
   ]
  },
  {
   "cell_type": "code",
   "execution_count": 82,
   "metadata": {},
   "outputs": [],
   "source": [
    "class AUTSLDataset(Dataset):\n",
    "    '''\n",
    "    Dataset for the AUTSL data\n",
    "    '''\n",
    "    \n",
    "    def __init__(self, data_type, frame_interval = 1):\n",
    "        self.data_type = data_type\n",
    "        self.frame_interval = frame_interval\n",
    "        self.data_path = {\"train\": \"./dataset/train/\"}\n",
    "        self.data_length = {\"train\":  len(os.listdir(self.data_path[\"train\"]))}\n",
    "        self.label_path = {\"train\": \"./dataset/train_labels.csv\"}\n",
    "        self.labels = pd.read_csv(self.label_path[self.data_type],names = [\"file_name\", \"label\"])\n",
    "        \n",
    "    def Describe(self):\n",
    "        msg = \"AUTSL Dataset\\n\"\n",
    "        print(msg)\n",
    "        \n",
    "    def GetLabel(self, file_name):\n",
    "        return self.labels[aa.file_name ==file_name][\"label\"].values[0]\n",
    "    \n",
    "    def GetVideoArray(self, file_name):\n",
    "        cap = cv2.VideoCapture(self.data_path[self.data_type] + file_name)   # capturing the video from the given path\n",
    "        video_arr = []\n",
    "        while(cap.isOpened()):\n",
    "            frameId = cap.get(1) #current frame number\n",
    "            ret, frame = cap.read()\n",
    "            if (ret != True):\n",
    "                break\n",
    "            if (frameId % self.frame_interval == 0):\n",
    "                # storing the frames in a new folder named train_1\n",
    "                video_arr.append(frame)\n",
    "        cap.release()\n",
    "        return np.stack(video_arr)\n",
    "        \n",
    "    def __len__(self):\n",
    "        return self.data_length[self.data_type]\n",
    "    \n",
    "    def __getitem__(self, index):\n",
    "        file_name = os.listdir(self.data_path[self.data_type])[index]\n",
    "        video_arr = self.GetVideoArray(file_name)\n",
    "        label = self.GetLabel(file_name[:-10]) #slice to get just the name without file ext and file type\n",
    "        return video_arr, label\n",
    "        \n",
    "        "
   ]
  },
  {
   "cell_type": "code",
   "execution_count": 85,
   "metadata": {},
   "outputs": [
    {
     "data": {
      "text/plain": [
       "(48, 512, 512, 3)"
      ]
     },
     "execution_count": 85,
     "metadata": {},
     "output_type": "execute_result"
    }
   ],
   "source": [
    "a = AUTSLDataset(\"train\")\n",
    "# len(a)\n",
    "video, label = a[1]\n",
    "video.shape"
   ]
  },
  {
   "cell_type": "code",
   "execution_count": 44,
   "metadata": {},
   "outputs": [],
   "source": [
    "aa = pd.read_csv(\"./dataset/train_labels.csv\",names = [\"file_name\", \"label\"] )"
   ]
  },
  {
   "cell_type": "code",
   "execution_count": 54,
   "metadata": {},
   "outputs": [
    {
     "data": {
      "text/plain": [
       "144"
      ]
     },
     "execution_count": 54,
     "metadata": {},
     "output_type": "execute_result"
    }
   ],
   "source": [
    "aa[aa.file_name == \"signer13_sample818\"][\"label\"].values[0]"
   ]
  },
  {
   "cell_type": "code",
   "execution_count": null,
   "metadata": {},
   "outputs": [],
   "source": []
  }
 ],
 "metadata": {
  "kernelspec": {
   "display_name": "Python 3",
   "language": "python",
   "name": "python3"
  },
  "language_info": {
   "codemirror_mode": {
    "name": "ipython",
    "version": 3
   },
   "file_extension": ".py",
   "mimetype": "text/x-python",
   "name": "python",
   "nbconvert_exporter": "python",
   "pygments_lexer": "ipython3",
   "version": "3.6.10"
  }
 },
 "nbformat": 4,
 "nbformat_minor": 4
}
